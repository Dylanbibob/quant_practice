{
 "cells": [
  {
   "cell_type": "code",
   "execution_count": 76,
   "metadata": {},
   "outputs": [],
   "source": [
    "import akshare as ak\n",
    "import pandas as pd\n",
    "import numpy as np\n",
    "pd.set_option('display.float_format', lambda x: '%.2f' % x)\n",
    "import datetime as dt"
   ]
  },
  {
   "cell_type": "code",
   "execution_count": 62,
   "metadata": {},
   "outputs": [
    {
     "data": {
      "application/vnd.jupyter.widget-view+json": {
       "model_id": "65059e3551494c6aa08aea6e2dbcd3ac",
       "version_major": 2,
       "version_minor": 0
      },
      "text/plain": [
       "  0%|          | 0/57 [00:00<?, ?it/s]"
      ]
     },
     "metadata": {},
     "output_type": "display_data"
    },
    {
     "name": "stdout",
     "output_type": "stream",
     "text": [
      "        序号      代码    名称   最新价    涨跌幅   涨跌额        成交量           成交额    振幅  \\\n",
      "1        2  837748  路桥信息 57.74  29.99 13.32   87361.00  416384564.04 34.20   \n",
      "2        3  300368  汇金股份 10.36  20.05  1.73 1578797.00 1529114306.01 17.84   \n",
      "3        4  300513  恒实科技  9.40  20.05  1.57  397558.00  365352788.10 10.98   \n",
      "4        5  300082  奥克股份  9.53  20.03  1.59 1204287.00 1097338585.64 18.51   \n",
      "5        6  300651  金陵体育 29.38  20.02  4.90  271744.00  760886919.41 15.52   \n",
      "...    ...     ...   ...   ...    ...   ...        ...           ...   ...   \n",
      "5384  5385  000026   飞亚达 13.32 -10.00 -1.48   88140.00  117894776.41  4.12   \n",
      "5385  5386  001332  锡装股份 37.08 -10.00 -4.12   79002.00  302176574.06  5.49   \n",
      "5386  5387  688648  中邮科技 54.00 -12.76 -7.90  136016.00  756039072.00 16.56   \n",
      "5387  5388  300945   曼卡龙 25.05 -14.71 -4.32  614304.00 1626695093.62 14.10   \n",
      "5388  5389  300119  瑞普生物 22.41 -14.82 -3.90  544557.00 1276027575.61 16.65   \n",
      "\n",
      "        最高  ...   量比   换手率  市盈率-动态   市净率    总市值          流通市值    涨速  5分钟涨跌  \\\n",
      "1    57.74  ... 1.10 14.01 -168.78 14.09  44.31 3599948981.00  0.00   0.00   \n",
      "2    10.36  ... 2.25 29.85  -97.47 39.86  54.80 5479854401.00  0.00   0.00   \n",
      "3     9.40  ... 6.11 14.13  -23.48  2.15  29.49 2645505958.00  0.00   0.00   \n",
      "4     9.53  ... 2.08 17.76 -493.64  2.36  64.81 6463319743.00  0.00   0.00   \n",
      "5    29.38  ... 1.59 36.24 -558.28  4.94  37.83 2202797113.00  0.00   0.00   \n",
      "...    ...  ...  ...   ...     ...   ...    ...           ...   ...    ...   \n",
      "5384 13.93  ... 0.47  2.42   29.82  1.64  54.05 4858727382.00  0.00   0.00   \n",
      "5385 39.34  ... 1.13 29.26   21.99  1.71  40.79 1001160000.00 -2.24  -2.47   \n",
      "5386 62.80  ... 1.26 20.57  -82.65  4.78  73.44 3570961896.00  0.50   0.73   \n",
      "5387 28.65  ... 1.40 25.78   38.16  3.96  65.65 5970241575.00  0.85   1.01   \n",
      "5388 26.38  ... 3.66 16.26   22.50  2.36 104.40 7506498891.00  0.13   0.04   \n",
      "\n",
      "      60日涨跌幅  年初至今涨跌幅  \n",
      "1     113.77   195.80  \n",
      "2     116.28   138.71  \n",
      "3       3.18     2.96  \n",
      "4      39.12    51.99  \n",
      "5     113.05   134.85  \n",
      "...      ...      ...  \n",
      "5384   26.14    33.60  \n",
      "5385    6.77     7.73  \n",
      "5386  115.57   131.86  \n",
      "5387  120.32   118.02  \n",
      "5388   36.40    23.95  \n",
      "\n",
      "[5386 rows x 23 columns]\n"
     ]
    }
   ],
   "source": [
    "stock_data_pool = ak.stock_zh_a_spot_em() \n",
    "stock_data_pool.dropna(inplace=True)\n",
    "stock_data_pool['总市值'] = (pd.to_numeric(stock_data_pool['总市值']) / 100000000).round(2)\n",
    "print(stock_data_pool)"
   ]
  },
  {
   "cell_type": "code",
   "execution_count": 64,
   "metadata": {},
   "outputs": [
    {
     "name": "stdout",
     "output_type": "stream",
     "text": [
      "52\n"
     ]
    }
   ],
   "source": [
    "#筛选出涨幅在3%~5%之间的股票 \n",
    "first_filtered_data = stock_data_pool[(stock_data_pool['涨跌幅'] > 3) & (stock_data_pool['涨跌幅'] < 5)]\n",
    "#筛选出换手率在4%~10%之间的股票\n",
    "first_filtered_data = first_filtered_data[(first_filtered_data['换手率'] > 4) & (first_filtered_data['换手率'] < 10)]\n",
    "#删除量比小于1的股票\n",
    "first_filtered_data = first_filtered_data[first_filtered_data['量比'] > 1]\n",
    "# 选出市值在50亿到100亿之间的股票\n",
    "first_filtered_data = first_filtered_data[(first_filtered_data['总市值'] > 50) & (first_filtered_data['总市值'] < 100)]\n",
    "\n",
    "# file_path = f'e:\\\\desktop\\\\stock.csv'\n",
    "# data.to_csv(f'e:\\\\desktop\\\\stock.csv', index=False,encoding ='utf-8-sig')\n",
    "print(len(first_filtered_data))"
   ]
  },
  {
   "cell_type": "code",
   "execution_count": 78,
   "metadata": {},
   "outputs": [
    {
     "name": "stdout",
     "output_type": "stream",
     "text": [
      "Index(['日期', '股票代码', '开盘', '收盘', '最高', '最低', '成交量', '成交额', '振幅', '涨跌幅', '涨跌额',\n",
      "       '换手率'],\n",
      "      dtype='object')\n"
     ]
    }
   ],
   "source": [
    "today = dt.datetime.now().strftime('%Y%m%d')\n",
    "start_date = (dt.datetime.now() - dt.timedelta(days=60)).strftime('%Y%m%d')\n",
    "ffdc_stock_data_test = ak.stock_zh_a_hist(symbol=\"600900\", \n",
    "                                        period = \"daily\", \n",
    "                                        start_date = start_date,  \n",
    "                                        end_date =  today, \n",
    "                                        adjust=\"qfq\")\n",
    "print(ffdc_stock_data_test.columns)"
   ]
  },
  {
   "cell_type": "code",
   "execution_count": null,
   "metadata": {},
   "outputs": [
    {
     "name": "stdout",
     "output_type": "stream",
     "text": [
      "['300862', '002046', '688518', '002362', '688320', '002609', '002042', '300895', '300287', '688195', '300053', '002121', '600366', '300579', '600345', '301162', '603516', '300681', '688531', '002843', '300352', '688661', '688173', '603985', '002536', '300354', '300129', '300790', '300643', '002730', '600797', '301628', '600110', '300684', '600590', '688668', '688321', '301191', '300249', '603666', '300680', '301330', '002446', '300245', '301382', '300825', '300814', '300310', '300403', '002380', '301413', '300342']\n",
      "39.46\n",
      "股票代码: 300862, 处于下降趋势\n",
      "70.55\n",
      "股票代码: 002046, 不处于下降趋势\n",
      "17.04\n",
      "股票代码: 688518, 不处于下降趋势\n",
      "43.53\n",
      "股票代码: 002362, 不处于下降趋势\n",
      "43.07\n",
      "股票代码: 688320, 处于下降趋势\n"
     ]
    }
   ],
   "source": [
    "first_filtered_data_codes = first_filtered_data['代码'].tolist()\n",
    "today = dt.datetime.now().strftime('%Y%m%d')\n",
    "start_date = (dt.datetime.now() - dt.timedelta(days=60)).strftime('%Y%m%d')\n",
    "\n",
    "print(first_filtered_data_codes)\n",
    "\n",
    "for ffdc in first_filtered_data_codes[:3]:\n",
    "    ffdc_stock_data = ak.stock_zh_a_hist(symbol=ffdc, \n",
    "                                         period = \"daily\", \n",
    "                                         start_date = start_date,  \n",
    "                                         end_date =  today, \n",
    "                                         adjust=\"hfq\")\n",
    "    \n",
    "    ma5 = ffdc_stock_data['收盘'].rolling(window=5).mean()\n",
    "    ma20 = ffdc_stock_data['收盘'].rolling(window=20).mean()\n",
    "    \n",
    "    latest_ma5 = ma5.iloc[-1]\n",
    "    latest_ma20 = ma20.iloc[-1]\n",
    "    \n",
    "    print(latest_ma5)\n",
    "    \n",
    "    if len(ma5) >= 5 and len(ma20) >= 20:\n",
    "        ma5_slope = (ma5.iloc[-1] - ma5.iloc[-5]) / 5\n",
    "        ma20_slope = (ma20.iloc[-1] - ma20.iloc[-5]) / 5\n",
    "    else:\n",
    "        ma5_slope = 0\n",
    "        ma20_slope = 0\n",
    "        \n",
    "    is_down = (latest_ma5 < latest_ma20) and (ma5_slope < 0 or ma20_slope < 0)\n",
    "    \n",
    "    # if is_down:\n",
    "    #     print(f\"股票代码: {ffdc}, 处于下降趋势\")\n",
    "    # else:\n",
    "    #     print(f\"股票代码: {ffdc}, 不处于下降趋势\")\n",
    "    \n",
    "    print(f\"股票代码: {ffdc}, 是否满足条件: {is_down}\")\n",
    "       \n",
    "    # file_path = f'e:\\\\desktop\\\\ffdc{ffdc}.csv'\n",
    "    # ffdc_stock_data.to_csv(file_path, index=False,encoding ='utf-8-sig')\n",
    "\n"
   ]
  },
  {
   "cell_type": "code",
   "execution_count": null,
   "metadata": {},
   "outputs": [],
   "source": [
    "high = first_filtered_data_codes.row['最高']\n",
    "low = first_filtered_data_codes.row['最低']\n",
    "open_price = first_filtered_data_codes.row['开盘']\n",
    "close_price = first_filtered_data_codes.row['收盘']\n",
    "volume = first_filtered_data_codes.row['成交量']\n",
    "total_range = high - low\n"
   ]
  },
  {
   "cell_type": "code",
   "execution_count": null,
   "metadata": {},
   "outputs": [],
   "source": []
  }
 ],
 "metadata": {
  "kernelspec": {
   "display_name": "quant",
   "language": "python",
   "name": "python3"
  },
  "language_info": {
   "codemirror_mode": {
    "name": "ipython",
    "version": 3
   },
   "file_extension": ".py",
   "mimetype": "text/x-python",
   "name": "python",
   "nbconvert_exporter": "python",
   "pygments_lexer": "ipython3",
   "version": "3.13.2"
  }
 },
 "nbformat": 4,
 "nbformat_minor": 2
}
