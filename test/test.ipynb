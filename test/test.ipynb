{
 "cells": [
  {
   "cell_type": "code",
   "execution_count": 62,
   "id": "ecebb4bf",
   "metadata": {},
   "outputs": [
    {
     "name": "stdout",
     "output_type": "stream",
     "text": [
      "Index(['symbol', 'sec_level', 'multiplier', 'margin_ratio', 'pre_close',\n",
      "       'upper_limit', 'lower_limit', 'adj_factor', 'is_suspended',\n",
      "       'settle_price', 'position', 'pre_settle', 'strike_price',\n",
      "       'conversion_price', 'redemption_record_date', 'sec_type', 'exchange',\n",
      "       'sec_id', 'sec_name', 'sec_abbr', 'price_tick', 'listed_date',\n",
      "       'delisted_date', 'trade_n', 'board', 'quote_unit',\n",
      "       'option_margin_ratio1', 'option_margin_ratio2', 'sec_type_ext',\n",
      "       'option_type', 'call_or_put', 'underlying_symbol', 'exercise_price',\n",
      "       'conversion_start_date', 'trade_date', 'is_adjusted'],\n",
      "      dtype='object')\n"
     ]
    }
   ],
   "source": [
    "import pandas as pd\n",
    "import os\n",
    "from gm.api import *\n",
    "set_token('9f9a31a3ba21ce1492ca28eb5beaa2243848909d')\n",
    "data_jj = get_instruments(\n",
    "    exchanges = 'SZSE,SHSE',\n",
    "    sec_types = 1,\n",
    "    df = True,\n",
    "    skip_suspended=True,\n",
    "    skip_st=True, \n",
    ")\n",
    "\n",
    "# print(data_jj)\n",
    "print(data_jj.columns)\n",
    "\n",
    "\n"
   ]
  },
  {
   "cell_type": "code",
   "execution_count": null,
   "id": "a1ad310e",
   "metadata": {},
   "outputs": [
    {
     "name": "stdout",
     "output_type": "stream",
     "text": [
      "Index(['trade_date', 'pre_close', 'upper_limit', 'lower_limit', 'adj_factor',\n",
      "       'margin_ratio', 'multiplier', 'is_adjusted', 'is_suspended', 'position',\n",
      "       'settle_price', 'pre_settle', 'turn_rate', 'conversion_price',\n",
      "       'exercise_price', 'is_st', 'symbol', 'sec_type1', 'sec_type2', 'board',\n",
      "       'exchange', 'sec_id', 'sec_name', 'sec_abbr', 'price_tick', 'trade_n',\n",
      "       'listed_date', 'delisted_date', 'underlying_symbol', 'option_type',\n",
      "       'option_margin_ratio1', 'option_margin_ratio2', 'call_or_put',\n",
      "       'conversion_start_date', 'delisting_begin_date'],\n",
      "      dtype='object')\n"
     ]
    }
   ],
   "source": [
    "import datetime as dt\n",
    "\n",
    "data = get_symbols(sec_type1=1010,\n",
    "                   sec_type2=101001,\n",
    "                   exchanges='SHSE,SZSE', \n",
    "                   symbols=None, \n",
    "                   skip_suspended=True, \n",
    "                   skip_st=True, \n",
    "                   trade_date=None, \n",
    "                   df=True)\n"
   ]
  },
  {
   "cell_type": "code",
   "execution_count": 55,
   "id": "017180fb",
   "metadata": {},
   "outputs": [
    {
     "name": "stdout",
     "output_type": "stream",
     "text": [
      "                    trade_date  pre_close  upper_limit  lower_limit  \\\n",
      "0    2025-06-09 00:00:00+08:00      12.32        13.55        11.09   \n",
      "1    2025-06-09 00:00:00+08:00       9.44        10.38         8.50   \n",
      "2    2025-06-09 00:00:00+08:00       7.30         8.03         6.57   \n",
      "3    2025-06-09 00:00:00+08:00      22.14        24.35        19.93   \n",
      "4    2025-06-09 00:00:00+08:00       3.20         3.52         2.88   \n",
      "...                        ...        ...          ...          ...   \n",
      "5132 2025-06-09 00:00:00+08:00      54.41        65.29        43.53   \n",
      "5133 2025-06-09 00:00:00+08:00      27.55        33.06        22.04   \n",
      "5134 2025-06-09 00:00:00+08:00      76.11        91.33        60.89   \n",
      "5135 2025-06-09 00:00:00+08:00      30.36        36.43        24.29   \n",
      "5136 2025-06-09 00:00:00+08:00      81.67        98.00        65.34   \n",
      "\n",
      "       adj_factor  margin_ratio  multiplier  is_adjusted  is_suspended  \\\n",
      "0     12.38831009           1.0           1        False         False   \n",
      "1      2.21691159           1.0           1        False         False   \n",
      "2      2.84081475           1.0           1        False         False   \n",
      "3      1.68548542           1.0           1        False         False   \n",
      "4      7.35090292           1.0           1        False         False   \n",
      "...           ...           ...         ...          ...           ...   \n",
      "5132   1.00000000           1.0           1        False         False   \n",
      "5133   1.00000000           1.0           1        False         False   \n",
      "5134   1.00000000           1.0           1        False         False   \n",
      "5135   1.00000000           1.0           1        False         False   \n",
      "5136   5.97567827           1.0           1        False         False   \n",
      "\n",
      "      position  ...  trade_n               listed_date  \\\n",
      "0            0  ...        1 1999-11-10 00:00:00+08:00   \n",
      "1            0  ...        1 2003-04-28 00:00:00+08:00   \n",
      "2            0  ...        1 1999-07-27 00:00:00+08:00   \n",
      "3            0  ...        1 1999-03-12 00:00:00+08:00   \n",
      "4            0  ...        1 2000-04-27 00:00:00+08:00   \n",
      "...        ...  ...      ...                       ...   \n",
      "5132         0  ...        1 2025-05-16 00:00:00+08:00   \n",
      "5133         0  ...        1 2025-04-02 00:00:00+08:00   \n",
      "5134         0  ...        1 2025-04-17 00:00:00+08:00   \n",
      "5135         0  ...        1 2025-04-11 00:00:00+08:00   \n",
      "5136         0  ...        1 2010-08-27 00:00:00+08:00   \n",
      "\n",
      "                 delisted_date  underlying_symbol  option_type  \\\n",
      "0    2038-01-01 00:00:00+08:00                                   \n",
      "1    2038-01-01 00:00:00+08:00                                   \n",
      "2    2038-01-01 00:00:00+08:00                                   \n",
      "3    2038-01-01 00:00:00+08:00                                   \n",
      "4    2038-01-01 00:00:00+08:00                                   \n",
      "...                        ...                ...          ...   \n",
      "5132 2038-01-01 00:00:00+08:00                                   \n",
      "5133 2038-01-01 00:00:00+08:00                                   \n",
      "5134 2038-01-01 00:00:00+08:00                                   \n",
      "5135 2038-01-01 00:00:00+08:00                                   \n",
      "5136 2038-01-01 00:00:00+08:00                                   \n",
      "\n",
      "      option_margin_ratio1 option_margin_ratio2  call_or_put  \\\n",
      "0                      0.0                  0.0                \n",
      "1                      0.0                  0.0                \n",
      "2                      0.0                  0.0                \n",
      "3                      0.0                  0.0                \n",
      "4                      0.0                  0.0                \n",
      "...                    ...                  ...          ...   \n",
      "5132                   0.0                  0.0                \n",
      "5133                   0.0                  0.0                \n",
      "5134                   0.0                  0.0                \n",
      "5135                   0.0                  0.0                \n",
      "5136                   0.0                  0.0                \n",
      "\n",
      "      conversion_start_date  delisting_begin_date  \n",
      "0                      None                        \n",
      "1                      None                        \n",
      "2                      None                        \n",
      "3                      None                        \n",
      "4                      None                        \n",
      "...                     ...                   ...  \n",
      "5132                   None                        \n",
      "5133                   None                        \n",
      "5134                   None                        \n",
      "5135                   None                        \n",
      "5136                   None                        \n",
      "\n",
      "[5137 rows x 35 columns]\n",
      "Index(['trade_date', 'pre_close', 'upper_limit', 'lower_limit', 'adj_factor',\n",
      "       'margin_ratio', 'multiplier', 'is_adjusted', 'is_suspended', 'position',\n",
      "       'settle_price', 'pre_settle', 'turn_rate', 'conversion_price',\n",
      "       'exercise_price', 'is_st', 'symbol', 'sec_type1', 'sec_type2', 'board',\n",
      "       'exchange', 'sec_id', 'sec_name', 'sec_abbr', 'price_tick', 'trade_n',\n",
      "       'listed_date', 'delisted_date', 'underlying_symbol', 'option_type',\n",
      "       'option_margin_ratio1', 'option_margin_ratio2', 'call_or_put',\n",
      "       'conversion_start_date', 'delisting_begin_date'],\n",
      "      dtype='object')\n"
     ]
    }
   ],
   "source": [
    "print(data)\n",
    "print(data.columns)\n",
    "data.to_csv('data.csv', index=False,encoding='utf-8-sig')"
   ]
  },
  {
   "cell_type": "code",
   "execution_count": 58,
   "id": "f457d055",
   "metadata": {},
   "outputs": [
    {
     "name": "stdout",
     "output_type": "stream",
     "text": [
      "Empty DataFrame\n",
      "Columns: []\n",
      "Index: []\n"
     ]
    }
   ],
   "source": [
    "# import datetime as dt\n",
    "\n",
    "\n",
    "# stock_jj_list = data_jj['symbol'].tolist()\n",
    "# print(stock_jj_list)\n",
    "\n",
    "# for code in stock_jj_list:\n",
    "#     stock_jj_pool = history(\n",
    "#         symbol= code,\n",
    "#         frequency='1d'\n",
    "        \n",
    "        \n",
    "            \n",
    "# )\n",
    "stock_jj_pool = history(\n",
    "    symbol= 'SHSE.600900',\n",
    "    frequency='1d',\n",
    "    start_time = '2025-06-07',\n",
    "    end_time='2025-06-07',\n",
    "    # start_time = dt.datetime.now().strftime('%Y-%m-%d'),\n",
    "    # end_time=dt.datetime.now().strftime('%Y-%m-%d'),\n",
    "    df=True\n",
    ")\n",
    "\n",
    "print(stock_jj_pool)"
   ]
  },
  {
   "cell_type": "code",
   "execution_count": 27,
   "id": "af82eb94",
   "metadata": {},
   "outputs": [
    {
     "name": "stdout",
     "output_type": "stream",
     "text": [
      "Index(['symbol', 'sec_level', 'multiplier', 'margin_ratio', 'pre_close',\n",
      "       'upper_limit', 'lower_limit', 'adj_factor', 'is_suspended',\n",
      "       'settle_price', 'position', 'pre_settle', 'strike_price',\n",
      "       'conversion_price', 'redemption_record_date', 'sec_type', 'exchange',\n",
      "       'sec_id', 'sec_name', 'sec_abbr', 'price_tick', 'listed_date',\n",
      "       'delisted_date', 'trade_n', 'board', 'quote_unit',\n",
      "       'option_margin_ratio1', 'option_margin_ratio2', 'sec_type_ext',\n",
      "       'option_type', 'call_or_put', 'underlying_symbol', 'exercise_price',\n",
      "       'conversion_start_date', 'trade_date', 'is_adjusted'],\n",
      "      dtype='object')\n",
      "0        众生药业\n",
      "1       *ST中基\n",
      "2        科思股份\n",
      "3         中电港\n",
      "4        美邦服饰\n",
      "        ...  \n",
      "5215     宁波远洋\n",
      "5216     洪田股份\n",
      "5217     贵州三力\n",
      "5218     圣诺生物\n",
      "5219     西藏药业\n",
      "Name: sec_name, Length: 5220, dtype: object\n"
     ]
    }
   ],
   "source": [
    "print(data_jj.columns)\n",
    "print(data_jj[\"sec_name\"])"
   ]
  },
  {
   "cell_type": "code",
   "execution_count": null,
   "id": "84748dd6",
   "metadata": {},
   "outputs": [],
   "source": [
    "column_mapping = {\n",
    "    'sympol': '代码',\n",
    "    'sec_name': '名称',\n",
    "    'pre_close': '昨收',\n",
    "    'upper_limit': '最高',\n",
    "    'lower_limit': '最低',\n",
    "    'open': '今开',  # 假设 df2 中有 'open' 列\n",
    "    'close': '最新价',  # 假设 df2 中有 'close' 列\n",
    "    'change': '涨跌额',  # 假设 df2 中有 'change' 列\n",
    "    'pct_chg': '涨跌幅',  # 假设 df2 中有 'pct_chg' 列\n",
    "    'volume': '成交量',  # 假设 df2 中有 'volume' 列\n",
    "    'amount': '成交额',  # 假设 df2 中有 'amount' 列\n",
    "    'amplitude': '振幅',  # 假设 df2 中有 'amplitude' 列\n",
    "    'turnover_rate': '换手率',  # 假设 df2 中有 'turnover_rate' 列\n",
    "    'pe': '市盈率-动态',  # 假设 df2 中有 'pe' 列\n",
    "    'pb': '市净率',  # 假设 df2 中有 'pb' 列\n",
    "    'total_mv': '总市值',  # 假设 df2 中有 'total_mv' 列\n",
    "    'circ_mv': '流通市值',  # 假设 df2 中有 'circ_mv' 列\n",
    "    # 其他列可以根据需要添加\n",
    "}"
   ]
  },
  {
   "cell_type": "code",
   "execution_count": 26,
   "id": "9b971ce2",
   "metadata": {},
   "outputs": [
    {
     "name": "stdout",
     "output_type": "stream",
     "text": [
      "                         0\n",
      "0                   symbol\n",
      "1                sec_level\n",
      "2               multiplier\n",
      "3             margin_ratio\n",
      "4                pre_close\n",
      "5              upper_limit\n",
      "6              lower_limit\n",
      "7               adj_factor\n",
      "8             is_suspended\n",
      "9             settle_price\n",
      "10                position\n",
      "11              pre_settle\n",
      "12            strike_price\n",
      "13        conversion_price\n",
      "14  redemption_record_date\n",
      "15                sec_type\n",
      "16                exchange\n",
      "17                  sec_id\n",
      "18                sec_name\n",
      "19                sec_abbr\n",
      "20              price_tick\n",
      "21             listed_date\n",
      "22           delisted_date\n",
      "23                 trade_n\n",
      "24                   board\n",
      "25              quote_unit\n",
      "26    option_margin_ratio1\n",
      "27    option_margin_ratio2\n",
      "28            sec_type_ext\n",
      "29             option_type\n",
      "30             call_or_put\n",
      "31       underlying_symbol\n",
      "32          exercise_price\n",
      "33   conversion_start_date\n",
      "34              trade_date\n",
      "35             is_adjusted\n"
     ]
    }
   ],
   "source": [
    "data_jj_columns = pd.DataFrame(data_jj.columns)\n",
    "print(data_jj_columns)"
   ]
  },
  {
   "cell_type": "code",
   "execution_count": 24,
   "id": "b9059f0b",
   "metadata": {},
   "outputs": [
    {
     "name": "stdout",
     "output_type": "stream",
     "text": [
      "Index(['symbol', 'sec_level', 'multiplier', 'margin_ratio', 'pre_close',\n",
      "       'upper_limit', 'lower_limit', 'adj_factor', 'is_suspended',\n",
      "       'settle_price', 'position', 'pre_settle', 'strike_price',\n",
      "       'conversion_price', 'redemption_record_date', 'sec_type', 'exchange',\n",
      "       'sec_id', 'sec_name', 'sec_abbr', 'price_tick', 'listed_date',\n",
      "       'delisted_date', 'trade_n', 'board', 'quote_unit',\n",
      "       'option_margin_ratio1', 'option_margin_ratio2', 'sec_type_ext',\n",
      "       'option_type', 'call_or_put', 'underlying_symbol', 'exercise_price',\n",
      "       'conversion_start_date', 'trade_date', 'is_adjusted'],\n",
      "      dtype='object')\n"
     ]
    }
   ],
   "source": [
    "print(data_jj.columns)"
   ]
  },
  {
   "cell_type": "code",
   "execution_count": 23,
   "id": "01f50333",
   "metadata": {},
   "outputs": [
    {
     "name": "stdout",
     "output_type": "stream",
     "text": [
      "stock_data_pool20250607.csv\n"
     ]
    },
    {
     "ename": "FileNotFoundError",
     "evalue": "[Errno 2] No such file or directory: 'data/stock_pool_data/stock_data_pool20250607.csv'",
     "output_type": "error",
     "traceback": [
      "\u001b[31m---------------------------------------------------------------------------\u001b[39m",
      "\u001b[31mFileNotFoundError\u001b[39m                         Traceback (most recent call last)",
      "\u001b[36mCell\u001b[39m\u001b[36m \u001b[39m\u001b[32mIn[23]\u001b[39m\u001b[32m, line 4\u001b[39m\n\u001b[32m      2\u001b[39m file_name = os.path.basename(file_path)\n\u001b[32m      3\u001b[39m \u001b[38;5;28mprint\u001b[39m(file_name)\n\u001b[32m----> \u001b[39m\u001b[32m4\u001b[39m data_ak = \u001b[43mpd\u001b[49m\u001b[43m.\u001b[49m\u001b[43mread_csv\u001b[49m\u001b[43m(\u001b[49m\u001b[43mfile_path\u001b[49m\u001b[43m)\u001b[49m\n\u001b[32m      5\u001b[39m \u001b[38;5;28mprint\u001b[39m(data_ak)\n",
      "\u001b[36mFile \u001b[39m\u001b[32md:\\anaconda3\\envs\\quant\\Lib\\site-packages\\pandas\\io\\parsers\\readers.py:1026\u001b[39m, in \u001b[36mread_csv\u001b[39m\u001b[34m(filepath_or_buffer, sep, delimiter, header, names, index_col, usecols, dtype, engine, converters, true_values, false_values, skipinitialspace, skiprows, skipfooter, nrows, na_values, keep_default_na, na_filter, verbose, skip_blank_lines, parse_dates, infer_datetime_format, keep_date_col, date_parser, date_format, dayfirst, cache_dates, iterator, chunksize, compression, thousands, decimal, lineterminator, quotechar, quoting, doublequote, escapechar, comment, encoding, encoding_errors, dialect, on_bad_lines, delim_whitespace, low_memory, memory_map, float_precision, storage_options, dtype_backend)\u001b[39m\n\u001b[32m   1013\u001b[39m kwds_defaults = _refine_defaults_read(\n\u001b[32m   1014\u001b[39m     dialect,\n\u001b[32m   1015\u001b[39m     delimiter,\n\u001b[32m   (...)\u001b[39m\u001b[32m   1022\u001b[39m     dtype_backend=dtype_backend,\n\u001b[32m   1023\u001b[39m )\n\u001b[32m   1024\u001b[39m kwds.update(kwds_defaults)\n\u001b[32m-> \u001b[39m\u001b[32m1026\u001b[39m \u001b[38;5;28;01mreturn\u001b[39;00m \u001b[43m_read\u001b[49m\u001b[43m(\u001b[49m\u001b[43mfilepath_or_buffer\u001b[49m\u001b[43m,\u001b[49m\u001b[43m \u001b[49m\u001b[43mkwds\u001b[49m\u001b[43m)\u001b[49m\n",
      "\u001b[36mFile \u001b[39m\u001b[32md:\\anaconda3\\envs\\quant\\Lib\\site-packages\\pandas\\io\\parsers\\readers.py:620\u001b[39m, in \u001b[36m_read\u001b[39m\u001b[34m(filepath_or_buffer, kwds)\u001b[39m\n\u001b[32m    617\u001b[39m _validate_names(kwds.get(\u001b[33m\"\u001b[39m\u001b[33mnames\u001b[39m\u001b[33m\"\u001b[39m, \u001b[38;5;28;01mNone\u001b[39;00m))\n\u001b[32m    619\u001b[39m \u001b[38;5;66;03m# Create the parser.\u001b[39;00m\n\u001b[32m--> \u001b[39m\u001b[32m620\u001b[39m parser = \u001b[43mTextFileReader\u001b[49m\u001b[43m(\u001b[49m\u001b[43mfilepath_or_buffer\u001b[49m\u001b[43m,\u001b[49m\u001b[43m \u001b[49m\u001b[43m*\u001b[49m\u001b[43m*\u001b[49m\u001b[43mkwds\u001b[49m\u001b[43m)\u001b[49m\n\u001b[32m    622\u001b[39m \u001b[38;5;28;01mif\u001b[39;00m chunksize \u001b[38;5;129;01mor\u001b[39;00m iterator:\n\u001b[32m    623\u001b[39m     \u001b[38;5;28;01mreturn\u001b[39;00m parser\n",
      "\u001b[36mFile \u001b[39m\u001b[32md:\\anaconda3\\envs\\quant\\Lib\\site-packages\\pandas\\io\\parsers\\readers.py:1620\u001b[39m, in \u001b[36mTextFileReader.__init__\u001b[39m\u001b[34m(self, f, engine, **kwds)\u001b[39m\n\u001b[32m   1617\u001b[39m     \u001b[38;5;28mself\u001b[39m.options[\u001b[33m\"\u001b[39m\u001b[33mhas_index_names\u001b[39m\u001b[33m\"\u001b[39m] = kwds[\u001b[33m\"\u001b[39m\u001b[33mhas_index_names\u001b[39m\u001b[33m\"\u001b[39m]\n\u001b[32m   1619\u001b[39m \u001b[38;5;28mself\u001b[39m.handles: IOHandles | \u001b[38;5;28;01mNone\u001b[39;00m = \u001b[38;5;28;01mNone\u001b[39;00m\n\u001b[32m-> \u001b[39m\u001b[32m1620\u001b[39m \u001b[38;5;28mself\u001b[39m._engine = \u001b[38;5;28;43mself\u001b[39;49m\u001b[43m.\u001b[49m\u001b[43m_make_engine\u001b[49m\u001b[43m(\u001b[49m\u001b[43mf\u001b[49m\u001b[43m,\u001b[49m\u001b[43m \u001b[49m\u001b[38;5;28;43mself\u001b[39;49m\u001b[43m.\u001b[49m\u001b[43mengine\u001b[49m\u001b[43m)\u001b[49m\n",
      "\u001b[36mFile \u001b[39m\u001b[32md:\\anaconda3\\envs\\quant\\Lib\\site-packages\\pandas\\io\\parsers\\readers.py:1880\u001b[39m, in \u001b[36mTextFileReader._make_engine\u001b[39m\u001b[34m(self, f, engine)\u001b[39m\n\u001b[32m   1878\u001b[39m     \u001b[38;5;28;01mif\u001b[39;00m \u001b[33m\"\u001b[39m\u001b[33mb\u001b[39m\u001b[33m\"\u001b[39m \u001b[38;5;129;01mnot\u001b[39;00m \u001b[38;5;129;01min\u001b[39;00m mode:\n\u001b[32m   1879\u001b[39m         mode += \u001b[33m\"\u001b[39m\u001b[33mb\u001b[39m\u001b[33m\"\u001b[39m\n\u001b[32m-> \u001b[39m\u001b[32m1880\u001b[39m \u001b[38;5;28mself\u001b[39m.handles = \u001b[43mget_handle\u001b[49m\u001b[43m(\u001b[49m\n\u001b[32m   1881\u001b[39m \u001b[43m    \u001b[49m\u001b[43mf\u001b[49m\u001b[43m,\u001b[49m\n\u001b[32m   1882\u001b[39m \u001b[43m    \u001b[49m\u001b[43mmode\u001b[49m\u001b[43m,\u001b[49m\n\u001b[32m   1883\u001b[39m \u001b[43m    \u001b[49m\u001b[43mencoding\u001b[49m\u001b[43m=\u001b[49m\u001b[38;5;28;43mself\u001b[39;49m\u001b[43m.\u001b[49m\u001b[43moptions\u001b[49m\u001b[43m.\u001b[49m\u001b[43mget\u001b[49m\u001b[43m(\u001b[49m\u001b[33;43m\"\u001b[39;49m\u001b[33;43mencoding\u001b[39;49m\u001b[33;43m\"\u001b[39;49m\u001b[43m,\u001b[49m\u001b[43m \u001b[49m\u001b[38;5;28;43;01mNone\u001b[39;49;00m\u001b[43m)\u001b[49m\u001b[43m,\u001b[49m\n\u001b[32m   1884\u001b[39m \u001b[43m    \u001b[49m\u001b[43mcompression\u001b[49m\u001b[43m=\u001b[49m\u001b[38;5;28;43mself\u001b[39;49m\u001b[43m.\u001b[49m\u001b[43moptions\u001b[49m\u001b[43m.\u001b[49m\u001b[43mget\u001b[49m\u001b[43m(\u001b[49m\u001b[33;43m\"\u001b[39;49m\u001b[33;43mcompression\u001b[39;49m\u001b[33;43m\"\u001b[39;49m\u001b[43m,\u001b[49m\u001b[43m \u001b[49m\u001b[38;5;28;43;01mNone\u001b[39;49;00m\u001b[43m)\u001b[49m\u001b[43m,\u001b[49m\n\u001b[32m   1885\u001b[39m \u001b[43m    \u001b[49m\u001b[43mmemory_map\u001b[49m\u001b[43m=\u001b[49m\u001b[38;5;28;43mself\u001b[39;49m\u001b[43m.\u001b[49m\u001b[43moptions\u001b[49m\u001b[43m.\u001b[49m\u001b[43mget\u001b[49m\u001b[43m(\u001b[49m\u001b[33;43m\"\u001b[39;49m\u001b[33;43mmemory_map\u001b[39;49m\u001b[33;43m\"\u001b[39;49m\u001b[43m,\u001b[49m\u001b[43m \u001b[49m\u001b[38;5;28;43;01mFalse\u001b[39;49;00m\u001b[43m)\u001b[49m\u001b[43m,\u001b[49m\n\u001b[32m   1886\u001b[39m \u001b[43m    \u001b[49m\u001b[43mis_text\u001b[49m\u001b[43m=\u001b[49m\u001b[43mis_text\u001b[49m\u001b[43m,\u001b[49m\n\u001b[32m   1887\u001b[39m \u001b[43m    \u001b[49m\u001b[43merrors\u001b[49m\u001b[43m=\u001b[49m\u001b[38;5;28;43mself\u001b[39;49m\u001b[43m.\u001b[49m\u001b[43moptions\u001b[49m\u001b[43m.\u001b[49m\u001b[43mget\u001b[49m\u001b[43m(\u001b[49m\u001b[33;43m\"\u001b[39;49m\u001b[33;43mencoding_errors\u001b[39;49m\u001b[33;43m\"\u001b[39;49m\u001b[43m,\u001b[49m\u001b[43m \u001b[49m\u001b[33;43m\"\u001b[39;49m\u001b[33;43mstrict\u001b[39;49m\u001b[33;43m\"\u001b[39;49m\u001b[43m)\u001b[49m\u001b[43m,\u001b[49m\n\u001b[32m   1888\u001b[39m \u001b[43m    \u001b[49m\u001b[43mstorage_options\u001b[49m\u001b[43m=\u001b[49m\u001b[38;5;28;43mself\u001b[39;49m\u001b[43m.\u001b[49m\u001b[43moptions\u001b[49m\u001b[43m.\u001b[49m\u001b[43mget\u001b[49m\u001b[43m(\u001b[49m\u001b[33;43m\"\u001b[39;49m\u001b[33;43mstorage_options\u001b[39;49m\u001b[33;43m\"\u001b[39;49m\u001b[43m,\u001b[49m\u001b[43m \u001b[49m\u001b[38;5;28;43;01mNone\u001b[39;49;00m\u001b[43m)\u001b[49m\u001b[43m,\u001b[49m\n\u001b[32m   1889\u001b[39m \u001b[43m\u001b[49m\u001b[43m)\u001b[49m\n\u001b[32m   1890\u001b[39m \u001b[38;5;28;01massert\u001b[39;00m \u001b[38;5;28mself\u001b[39m.handles \u001b[38;5;129;01mis\u001b[39;00m \u001b[38;5;129;01mnot\u001b[39;00m \u001b[38;5;28;01mNone\u001b[39;00m\n\u001b[32m   1891\u001b[39m f = \u001b[38;5;28mself\u001b[39m.handles.handle\n",
      "\u001b[36mFile \u001b[39m\u001b[32md:\\anaconda3\\envs\\quant\\Lib\\site-packages\\pandas\\io\\common.py:873\u001b[39m, in \u001b[36mget_handle\u001b[39m\u001b[34m(path_or_buf, mode, encoding, compression, memory_map, is_text, errors, storage_options)\u001b[39m\n\u001b[32m    868\u001b[39m \u001b[38;5;28;01melif\u001b[39;00m \u001b[38;5;28misinstance\u001b[39m(handle, \u001b[38;5;28mstr\u001b[39m):\n\u001b[32m    869\u001b[39m     \u001b[38;5;66;03m# Check whether the filename is to be opened in binary mode.\u001b[39;00m\n\u001b[32m    870\u001b[39m     \u001b[38;5;66;03m# Binary mode does not support 'encoding' and 'newline'.\u001b[39;00m\n\u001b[32m    871\u001b[39m     \u001b[38;5;28;01mif\u001b[39;00m ioargs.encoding \u001b[38;5;129;01mand\u001b[39;00m \u001b[33m\"\u001b[39m\u001b[33mb\u001b[39m\u001b[33m\"\u001b[39m \u001b[38;5;129;01mnot\u001b[39;00m \u001b[38;5;129;01min\u001b[39;00m ioargs.mode:\n\u001b[32m    872\u001b[39m         \u001b[38;5;66;03m# Encoding\u001b[39;00m\n\u001b[32m--> \u001b[39m\u001b[32m873\u001b[39m         handle = \u001b[38;5;28;43mopen\u001b[39;49m\u001b[43m(\u001b[49m\n\u001b[32m    874\u001b[39m \u001b[43m            \u001b[49m\u001b[43mhandle\u001b[49m\u001b[43m,\u001b[49m\n\u001b[32m    875\u001b[39m \u001b[43m            \u001b[49m\u001b[43mioargs\u001b[49m\u001b[43m.\u001b[49m\u001b[43mmode\u001b[49m\u001b[43m,\u001b[49m\n\u001b[32m    876\u001b[39m \u001b[43m            \u001b[49m\u001b[43mencoding\u001b[49m\u001b[43m=\u001b[49m\u001b[43mioargs\u001b[49m\u001b[43m.\u001b[49m\u001b[43mencoding\u001b[49m\u001b[43m,\u001b[49m\n\u001b[32m    877\u001b[39m \u001b[43m            \u001b[49m\u001b[43merrors\u001b[49m\u001b[43m=\u001b[49m\u001b[43merrors\u001b[49m\u001b[43m,\u001b[49m\n\u001b[32m    878\u001b[39m \u001b[43m            \u001b[49m\u001b[43mnewline\u001b[49m\u001b[43m=\u001b[49m\u001b[33;43m\"\u001b[39;49m\u001b[33;43m\"\u001b[39;49m\u001b[43m,\u001b[49m\n\u001b[32m    879\u001b[39m \u001b[43m        \u001b[49m\u001b[43m)\u001b[49m\n\u001b[32m    880\u001b[39m     \u001b[38;5;28;01melse\u001b[39;00m:\n\u001b[32m    881\u001b[39m         \u001b[38;5;66;03m# Binary mode\u001b[39;00m\n\u001b[32m    882\u001b[39m         handle = \u001b[38;5;28mopen\u001b[39m(handle, ioargs.mode)\n",
      "\u001b[31mFileNotFoundError\u001b[39m: [Errno 2] No such file or directory: 'data/stock_pool_data/stock_data_pool20250607.csv'"
     ]
    }
   ],
   "source": [
    "file_path = r'data/stock_pool_data/stock_data_pool20250607.csv'\n",
    "file_name = os.path.basename(file_path)\n",
    "print(file_name)\n",
    "data_ak = pd.read_csv(file_path)\n",
    "print(data_ak)"
   ]
  },
  {
   "cell_type": "code",
   "execution_count": 2,
   "id": "a23afaad",
   "metadata": {},
   "outputs": [
    {
     "name": "stdout",
     "output_type": "stream",
     "text": [
      "             日期    股票代码     开盘     收盘     最高     最低     成交量           成交额  \\\n",
      "0    2024-05-24  600900  25.18  25.27  25.52  25.10  777151  2.051398e+09   \n",
      "1    2024-05-27  600900  25.28  25.48  25.67  25.28  780009  2.069505e+09   \n",
      "2    2024-05-28  600900  25.49  25.68  25.80  25.45  672593  1.793774e+09   \n",
      "3    2024-05-29  600900  25.67  25.66  25.74  25.38  620520  1.651091e+09   \n",
      "4    2024-05-30  600900  25.63  25.67  25.92  25.57  539805  1.444639e+09   \n",
      "..          ...     ...    ...    ...    ...    ...     ...           ...   \n",
      "237  2025-05-19  600900  30.10  30.47  30.58  30.10  561942  1.709384e+09   \n",
      "238  2025-05-20  600900  30.48  30.68  30.94  30.48  605876  1.863321e+09   \n",
      "239  2025-05-21  600900  30.74  30.80  30.95  30.70  535498  1.650447e+09   \n",
      "240  2025-05-22  600900  30.80  31.03  31.05  30.56  537264  1.657927e+09   \n",
      "241  2025-05-23  600900  30.99  30.49  31.06  30.39  854248  2.613433e+09   \n",
      "\n",
      "       振幅   涨跌幅   涨跌额   换手率  \n",
      "0    1.67  0.60  0.15  0.32  \n",
      "1    1.54  0.83  0.21  0.32  \n",
      "2    1.37  0.78  0.20  0.28  \n",
      "3    1.40 -0.08 -0.02  0.26  \n",
      "4    1.36  0.04  0.01  0.22  \n",
      "..    ...   ...   ...   ...  \n",
      "237  1.59  1.23  0.37  0.23  \n",
      "238  1.51  0.69  0.21  0.25  \n",
      "239  0.81  0.39  0.12  0.22  \n",
      "240  1.59  0.75  0.23  0.22  \n",
      "241  2.16 -1.74 -0.54  0.36  \n",
      "\n",
      "[242 rows x 12 columns]\n"
     ]
    }
   ],
   "source": [
    "import akshare as ak\n",
    "data = ak.stock_zh_a_hist(symbol=\"600900\", period=\"daily\", \n",
    "                        start_date='20240524', end_date='20250524', adjust=\"qfq\")\n",
    "print(data)"
   ]
  },
  {
   "cell_type": "code",
   "execution_count": 1,
   "id": "6a238975",
   "metadata": {},
   "outputs": [
    {
     "name": "stdout",
     "output_type": "stream",
     "text": [
      "      trade_date\n",
      "0     1990-12-19\n",
      "1     1990-12-20\n",
      "2     1990-12-21\n",
      "3     1990-12-24\n",
      "4     1990-12-25\n",
      "...          ...\n",
      "8550  2025-12-25\n",
      "8551  2025-12-26\n",
      "8552  2025-12-29\n",
      "8553  2025-12-30\n",
      "8554  2025-12-31\n",
      "\n",
      "[8555 rows x 1 columns]\n"
     ]
    }
   ],
   "source": [
    "import akshare as ak\n",
    "tool_trade_date_hist_sina_df = ak.tool_trade_date_hist_sina()\n",
    "print(tool_trade_date_hist_sina_df)"
   ]
  }
 ],
 "metadata": {
  "kernelspec": {
   "display_name": "quant",
   "language": "python",
   "name": "python3"
  },
  "language_info": {
   "codemirror_mode": {
    "name": "ipython",
    "version": 3
   },
   "file_extension": ".py",
   "mimetype": "text/x-python",
   "name": "python",
   "nbconvert_exporter": "python",
   "pygments_lexer": "ipython3",
   "version": "3.12.9"
  }
 },
 "nbformat": 4,
 "nbformat_minor": 5
}
