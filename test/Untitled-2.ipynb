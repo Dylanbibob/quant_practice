{
 "cells": [
  {
   "cell_type": "code",
   "execution_count": null,
   "id": "bdf6eec7",
   "metadata": {},
   "outputs": [],
   "source": [
    "import pandas as pd\n",
    "import os\n",
    "from gm.api import *\n",
    "import datetime as dt\n",
    "set_token('9f9a31a3ba21ce1492ca28eb5beaa2243848909d')\n",
    "# 采用掘金量化接口获取所有A股股票的信息\n",
    "data_jj = get_instruments(\n",
    "    exchanges = 'SZSE,SHSE',\n",
    "    sec_types = 1,\n",
    "    df = True,\n",
    "    skip_suspended=True,\n",
    "    skip_st=True, \n",
    ")\n",
    "print(data_jj.head(3))"
   ]
  },
  {
   "cell_type": "code",
   "execution_count": 15,
   "id": "d7472793",
   "metadata": {},
   "outputs": [
    {
     "name": "stdout",
     "output_type": "stream",
     "text": [
      "trade_date列的数据类型: object\n",
      "前几行数据: 0              \n",
      "1    2025-01-02\n",
      "2    2025-01-03\n",
      "3              \n",
      "4              \n",
      "Name: trade_date, dtype: object\n",
      "交易日: 2025-06-06\n"
     ]
    },
    {
     "name": "stderr",
     "output_type": "stream",
     "text": [
      "d:\\anaconda3\\envs\\quant\\Lib\\site-packages\\gm\\api\\ds_instrument.py:163: FutureWarning: DataFrame.applymap has been deprecated. Use DataFrame.map instead.\n",
      "  return pd.DataFrame(data).applymap(_datetime_to_str)\n"
     ]
    }
   ],
   "source": [
    "#获取交易日信息\n",
    "trade_calendar = get_trading_dates_by_year(\n",
    "    exchange='SHSE', \n",
    "    start_year=int(dt.datetime.now().year),\n",
    "    end_year=int(dt.datetime.now().year),\n",
    "    )\n",
    "\n",
    "# 首先检查数据类型\n",
    "print(\"trade_date列的数据类型:\", trade_calendar['trade_date'].dtype)\n",
    "print(\"前几行数据:\", trade_calendar['trade_date'].head())\n",
    "\n",
    "# 转换为datetime类型\n",
    "trade_calendar['trade_date'] = pd.to_datetime(trade_calendar['trade_date'])\n",
    "\n",
    "checked_day = dt.datetime.now().date()\n",
    "\n",
    "# 判断今天是否是交易日\n",
    "if checked_day not in trade_calendar['trade_date'].dt.date.values:\n",
    "    # 如果不是交易日，则获取前一个交易日\n",
    "    # 这里的逻辑也需要修正\n",
    "    previous_trade_day = trade_calendar[trade_calendar['trade_date'].dt.date < checked_day]['trade_date'].max()\n",
    "    checked_day = previous_trade_day.date() if pd.notna(previous_trade_day) else checked_day\n",
    "else:\n",
    "    # 如果是交易日，则获取今天的日期\n",
    "    checked_day = checked_day\n",
    "print(\"交易日:\", checked_day)\n"
   ]
  },
  {
   "cell_type": "code",
   "execution_count": 19,
   "id": "d7627991",
   "metadata": {},
   "outputs": [
    {
     "name": "stdout",
     "output_type": "stream",
     "text": [
      "获取了 5205 只股票的数据\n",
      "           symbol frequency   open   high    low  close    volume  \\\n",
      "0     SZSE.002485        1d   3.26   3.39   3.26   3.39   9032982   \n",
      "1     SZSE.300293        1d  20.78  20.96  20.50  20.56   5183200   \n",
      "2     SZSE.002213        1d  15.67  16.49  15.20  16.49  21709450   \n",
      "3     SZSE.002917        1d  13.39  13.86  13.30  13.59  14271850   \n",
      "4     SZSE.300366        1d   8.10   8.18   7.90   7.92  38789719   \n",
      "...           ...       ...    ...    ...    ...    ...       ...   \n",
      "5200  SHSE.603076        1d  37.55  41.00  35.88  37.15  17338043   \n",
      "5201  SHSE.688459        1d   9.68   9.70   9.64   9.67   1173199   \n",
      "5202  SHSE.600633        1d  13.41  13.66  13.15  13.32  37961682   \n",
      "5203  SHSE.601500        1d   4.57   4.63   4.56   4.59  15535942   \n",
      "5204  SHSE.600918        1d   6.33   6.33   6.25   6.25  14677149   \n",
      "\n",
      "              amount  pre_close  position                       bob  \\\n",
      "0     3.05598900e+07       3.23         0 2025-06-06 00:00:00+08:00   \n",
      "1     1.07227431e+08      20.88         0 2025-06-06 00:00:00+08:00   \n",
      "2     3.47599512e+08      14.99         0 2025-06-06 00:00:00+08:00   \n",
      "3     1.94676667e+08      13.38         0 2025-06-06 00:00:00+08:00   \n",
      "4     3.10110618e+08       8.19         0 2025-06-06 00:00:00+08:00   \n",
      "...              ...        ...       ...                       ...   \n",
      "5200  6.66941483e+08      37.55         0 2025-06-06 00:00:00+08:00   \n",
      "5201  1.13424105e+07       9.65         0 2025-06-06 00:00:00+08:00   \n",
      "5202  5.06603491e+08      13.32         0 2025-06-06 00:00:00+08:00   \n",
      "5203  7.13417245e+07       4.56         0 2025-06-06 00:00:00+08:00   \n",
      "5204  9.21278699e+07       6.31         0 2025-06-06 00:00:00+08:00   \n",
      "\n",
      "                           eob  \n",
      "0    2025-06-06 00:00:00+08:00  \n",
      "1    2025-06-06 00:00:00+08:00  \n",
      "2    2025-06-06 00:00:00+08:00  \n",
      "3    2025-06-06 00:00:00+08:00  \n",
      "4    2025-06-06 00:00:00+08:00  \n",
      "...                        ...  \n",
      "5200 2025-06-06 00:00:00+08:00  \n",
      "5201 2025-06-06 00:00:00+08:00  \n",
      "5202 2025-06-06 00:00:00+08:00  \n",
      "5203 2025-06-06 00:00:00+08:00  \n",
      "5204 2025-06-06 00:00:00+08:00  \n",
      "\n",
      "[5205 rows x 12 columns]\n",
      "           symbol frequency   open   high    low  close    volume  \\\n",
      "0     SZSE.002485        1d   3.26   3.39   3.26   3.39   9032982   \n",
      "1     SZSE.300293        1d  20.78  20.96  20.50  20.56   5183200   \n",
      "2     SZSE.002213        1d  15.67  16.49  15.20  16.49  21709450   \n",
      "3     SZSE.002917        1d  13.39  13.86  13.30  13.59  14271850   \n",
      "4     SZSE.300366        1d   8.10   8.18   7.90   7.92  38789719   \n",
      "...           ...       ...    ...    ...    ...    ...       ...   \n",
      "5200  SHSE.603076        1d  37.55  41.00  35.88  37.15  17338043   \n",
      "5201  SHSE.688459        1d   9.68   9.70   9.64   9.67   1173199   \n",
      "5202  SHSE.600633        1d  13.41  13.66  13.15  13.32  37961682   \n",
      "5203  SHSE.601500        1d   4.57   4.63   4.56   4.59  15535942   \n",
      "5204  SHSE.600918        1d   6.33   6.33   6.25   6.25  14677149   \n",
      "\n",
      "              amount  pre_close  position                       bob  \\\n",
      "0     3.05598900e+07       3.23         0 2025-06-06 00:00:00+08:00   \n",
      "1     1.07227431e+08      20.88         0 2025-06-06 00:00:00+08:00   \n",
      "2     3.47599512e+08      14.99         0 2025-06-06 00:00:00+08:00   \n",
      "3     1.94676667e+08      13.38         0 2025-06-06 00:00:00+08:00   \n",
      "4     3.10110618e+08       8.19         0 2025-06-06 00:00:00+08:00   \n",
      "...              ...        ...       ...                       ...   \n",
      "5200  6.66941483e+08      37.55         0 2025-06-06 00:00:00+08:00   \n",
      "5201  1.13424105e+07       9.65         0 2025-06-06 00:00:00+08:00   \n",
      "5202  5.06603491e+08      13.32         0 2025-06-06 00:00:00+08:00   \n",
      "5203  7.13417245e+07       4.56         0 2025-06-06 00:00:00+08:00   \n",
      "5204  9.21278699e+07       6.31         0 2025-06-06 00:00:00+08:00   \n",
      "\n",
      "                           eob  \n",
      "0    2025-06-06 00:00:00+08:00  \n",
      "1    2025-06-06 00:00:00+08:00  \n",
      "2    2025-06-06 00:00:00+08:00  \n",
      "3    2025-06-06 00:00:00+08:00  \n",
      "4    2025-06-06 00:00:00+08:00  \n",
      "...                        ...  \n",
      "5200 2025-06-06 00:00:00+08:00  \n",
      "5201 2025-06-06 00:00:00+08:00  \n",
      "5202 2025-06-06 00:00:00+08:00  \n",
      "5203 2025-06-06 00:00:00+08:00  \n",
      "5204 2025-06-06 00:00:00+08:00  \n",
      "\n",
      "[5205 rows x 12 columns]\n"
     ]
    }
   ],
   "source": [
    "stock_data_list = []\n",
    "for _, row in data_jj.iterrows():\n",
    "    symbol = row.symbol\n",
    "    single_stock_data = history(symbol=symbol, \n",
    "            frequency='1d', \n",
    "            start_time=checked_day, \n",
    "            end_time=checked_day, \n",
    "            fields=None, \n",
    "            skip_suspended=True,\n",
    "            fill_missing=None, \n",
    "            df=True)\n",
    "    \n",
    "    if not single_stock_data.empty:  # 确保有数据才添加\n",
    "        stock_data_list.append(single_stock_data) \n",
    "\n",
    "# 合并所有数据\n",
    "if stock_data_list:\n",
    "    stock_data_pool = pd.concat(stock_data_list, ignore_index=True)\n",
    "    print(f\"获取了 {len(stock_data_list)} 只股票的数据\")\n",
    "    print(stock_data_pool)\n",
    "else:\n",
    "    print(\"没有获取到任何股票数据\")\n",
    "    \n",
    "print(stock_data_pool)"
   ]
  },
  {
   "cell_type": "code",
   "execution_count": 20,
   "id": "831c8a99",
   "metadata": {},
   "outputs": [
    {
     "name": "stdout",
     "output_type": "stream",
     "text": [
      "Index(['symbol', 'frequency', 'open', 'high', 'low', 'close', 'volume',\n",
      "       'amount', 'pre_close', 'position', 'bob', 'eob'],\n",
      "      dtype='object')\n"
     ]
    }
   ],
   "source": [
    "print(stock_data_pool.columns)"
   ]
  },
  {
   "cell_type": "markdown",
   "id": "83241114",
   "metadata": {},
   "source": []
  },
  {
   "cell_type": "code",
   "execution_count": null,
   "id": "29cbbcd2",
   "metadata": {},
   "outputs": [],
   "source": []
  }
 ],
 "metadata": {
  "kernelspec": {
   "display_name": "quant",
   "language": "python",
   "name": "python3"
  },
  "language_info": {
   "codemirror_mode": {
    "name": "ipython",
    "version": 3
   },
   "file_extension": ".py",
   "mimetype": "text/x-python",
   "name": "python",
   "nbconvert_exporter": "python",
   "pygments_lexer": "ipython3",
   "version": "3.12.9"
  }
 },
 "nbformat": 4,
 "nbformat_minor": 5
}
